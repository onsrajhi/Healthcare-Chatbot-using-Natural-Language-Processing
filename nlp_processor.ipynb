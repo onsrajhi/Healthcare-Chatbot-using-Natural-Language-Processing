{
 "cells": [
  {
   "cell_type": "markdown",
   "id": "3c345e6e",
   "metadata": {},
   "source": [
    "Setup and Data Loading"
   ]
  },
  {
   "cell_type": "code",
   "execution_count": 8,
   "id": "0d1a058f",
   "metadata": {},
   "outputs": [
    {
     "name": "stderr",
     "output_type": "stream",
     "text": [
      "[nltk_data] Downloading package punkt to /home/silver/nltk_data...\n",
      "[nltk_data]   Package punkt is already up-to-date!\n",
      "[nltk_data] Downloading package stopwords to /home/silver/nltk_data...\n",
      "[nltk_data]   Package stopwords is already up-to-date!\n"
     ]
    }
   ],
   "source": [
    "import pandas as pd\n",
    "import numpy as np\n",
    "import matplotlib.pyplot as plt\n",
    "import seaborn as sns\n",
    "from sklearn.feature_extraction.text import TfidfVectorizer\n",
    "from sklearn.model_selection import train_test_split\n",
    "from nltk.corpus import stopwords\n",
    "from nltk.tokenize import word_tokenize\n",
    "import string\n",
    "import nltk\n",
    "from nltk.tokenize import word_tokenize\n",
    "from nltk.corpus import stopwords\n",
    "from nltk.stem import PorterStemmer\n",
    "\n",
    "\n",
    "# Download NLTK resources\n",
    "nltk.download('punkt')\n",
    "nltk.download('stopwords')\n",
    "\n",
    "# Load the dataset\n",
    "df = pd.read_csv('/home/silver/Healthcare-Chatbot-using-Natural-Language-Processing/clean datasets/Symptom2Disease_cleaned.csv')"
   ]
  },
  {
   "cell_type": "code",
   "execution_count": 11,
   "id": "002fbe4e",
   "metadata": {},
   "outputs": [
    {
     "name": "stderr",
     "output_type": "stream",
     "text": [
      "[nltk_data] Downloading package punkt to /home/silver/nltk_data...\n",
      "[nltk_data]   Package punkt is already up-to-date!\n",
      "[nltk_data] Downloading package stopwords to /home/silver/nltk_data...\n",
      "[nltk_data]   Package stopwords is already up-to-date!\n",
      "[nltk_data] Downloading package wordnet to /home/silver/nltk_data...\n",
      "[nltk_data]   Package wordnet is already up-to-date!\n",
      "[nltk_data] Downloading package omw-1.4 to /home/silver/nltk_data...\n"
     ]
    },
    {
     "name": "stdout",
     "output_type": "stream",
     "text": [
      "NLTK data paths: ['/home/silver/nltk_data', '/home/silver/Healthcare-Chatbot-using-Natural-Language-Processing/venv/nltk_data', '/home/silver/Healthcare-Chatbot-using-Natural-Language-Processing/venv/share/nltk_data', '/home/silver/Healthcare-Chatbot-using-Natural-Language-Processing/venv/lib/nltk_data', '/usr/share/nltk_data', '/usr/local/share/nltk_data', '/usr/lib/nltk_data', '/usr/local/lib/nltk_data']\n"
     ]
    }
   ],
   "source": [
    "import nltk\n",
    "\n",
    "# Download all required NLTK data\n",
    "nltk.download('punkt')  # For tokenization\n",
    "nltk.download('stopwords')  # For stopword removal\n",
    "nltk.download('wordnet')  # For lemmatization (alternative to stemming)\n",
    "nltk.download('omw-1.4')  # Open Multilingual WordNet (required for wordnet)\n",
    "\n",
    "# Verify NLTK data path\n",
    "print(\"NLTK data paths:\", nltk.data.path)"
   ]
  },
  {
   "cell_type": "markdown",
   "id": "bebadda4",
   "metadata": {},
   "source": [
    "Text Preprocessing"
   ]
  },
  {
   "cell_type": "code",
   "execution_count": 12,
   "id": "b8ef7eab",
   "metadata": {},
   "outputs": [
    {
     "name": "stdout",
     "output_type": "stream",
     "text": [
      "\n",
      "Sample preprocessing results:\n",
      "\n",
      "Original 1: i have been experiencing a skin rash on my arms, legs, and torso for the past few weeks. it is red, itchy, and covered in dry, scaly patches.\n",
      "Processed 1: experiencing skin rash arm leg torso past week red itchy covered dry scaly patch\n",
      "\n",
      "Original 2: my skin has been peeling, especially on my knees, elbows, and scalp. this peeling is often accompanied by a burning or stinging sensation.\n",
      "Processed 2: skin peeling especially knee elbow scalp peeling often accompanied burning stinging sensation\n",
      "\n",
      "Original 3: i have been experiencing joint pain in my fingers, wrists, and knees. the pain is often achy and throbbing, and it gets worse when i move my joints.\n",
      "Processed 3: experiencing joint pain finger wrist knee pain often achy throbbing get worse move joint\n"
     ]
    }
   ],
   "source": [
    "import pandas as pd\n",
    "import string\n",
    "from nltk.tokenize import RegexpTokenizer  # Fallback tokenizer\n",
    "from nltk.corpus import stopwords\n",
    "from nltk.stem import WordNetLemmatizer\n",
    "\n",
    "# Initialize components\n",
    "lemmatizer = WordNetLemmatizer()\n",
    "stop_words = set(stopwords.words('english'))\n",
    "tokenizer = RegexpTokenizer(r'\\w+')  # Fallback tokenizer\n",
    "\n",
    "def robust_preprocess(text):\n",
    "    try:\n",
    "        if not isinstance(text, str) or not text.strip():\n",
    "            return \"\"\n",
    "            \n",
    "        # Convert to lowercase\n",
    "        text = text.lower()\n",
    "        \n",
    "        # Remove punctuation\n",
    "        text = text.translate(str.maketrans('', '', string.punctuation))\n",
    "        \n",
    "        # Try NLTK word_tokenize first, fallback to regex tokenizer if it fails\n",
    "        try:\n",
    "            tokens = word_tokenize(text)\n",
    "        except:\n",
    "            tokens = tokenizer.tokenize(text)\n",
    "        \n",
    "        # Remove stopwords and lemmatize\n",
    "        tokens = [lemmatizer.lemmatize(word) for word in tokens if word not in stop_words]\n",
    "        \n",
    "        return ' '.join(tokens)\n",
    "        \n",
    "    except Exception as e:\n",
    "        print(f\"Error processing text: {text[:50]}... Error: {str(e)[:100]}...\")\n",
    "        return \"\"\n",
    "\n",
    "# Apply preprocessing\n",
    "df['processed_text'] = df['text'].apply(robust_preprocess)\n",
    "\n",
    "# Verify results\n",
    "print(\"\\nSample preprocessing results:\")\n",
    "for i in range(3):\n",
    "    print(f\"\\nOriginal {i+1}: {df['text'].iloc[i]}\")\n",
    "    print(f\"Processed {i+1}: {df['processed_text'].iloc[i]}\")"
   ]
  },
  {
   "cell_type": "code",
   "execution_count": 13,
   "id": "1521a77b",
   "metadata": {},
   "outputs": [
    {
     "name": "stdout",
     "output_type": "stream",
     "text": [
      "\n",
      "Enhanced Medical Preprocessing Results:\n",
      "\n",
      "Original 1: i have been experiencing a skin rash on my arms, legs, and torso for the past few weeks. it is red, itchy, and covered in dry, scaly patches.\n",
      "Standard: experiencing skin rash arm leg torso past week red itchy covered dry scaly patch\n",
      "Medical: experiencing skin rash arm leg torso past week red itchy covered dry scaly patch\n",
      "\n",
      "Original 2: my skin has been peeling, especially on my knees, elbows, and scalp. this peeling is often accompanied by a burning or stinging sensation.\n",
      "Standard: skin peeling especially knee elbow scalp peeling often accompanied burning stinging sensation\n",
      "Medical: skin peeling especially knee elbow scalp peeling often accompanied burning stinging sensation\n",
      "\n",
      "Original 3: i have been experiencing joint pain in my fingers, wrists, and knees. the pain is often achy and throbbing, and it gets worse when i move my joints.\n",
      "Standard: experiencing joint pain finger wrist knee pain often achy throbbing get worse move joint\n",
      "Medical: experiencing joint pain finger wrist knee pain often achy throbbing get worse move joint\n"
     ]
    }
   ],
   "source": [
    "import re\n",
    "from nltk.corpus import wordnet\n",
    "\n",
    "# Enhanced medical preprocessing\n",
    "def medical_preprocess(text):\n",
    "    try:\n",
    "        if not isinstance(text, str) or not text.strip():\n",
    "            return \"\"\n",
    "            \n",
    "        # Convert to lowercase\n",
    "        text = text.lower()\n",
    "        \n",
    "        # Handle medical abbreviations/contractions\n",
    "        text = re.sub(r\"\\b(i've|i'm|i'd)\\b\", \"\", text)\n",
    "        \n",
    "        # Special handling for numeric symptoms\n",
    "        text = re.sub(r\"(\\d+)\\s*(hours|days|weeks|months|years)\", r\"\\1_\\2\", text)\n",
    "        \n",
    "        # Remove punctuation but keep hyphens in compound terms\n",
    "        text = re.sub(r\"(?<!\\w)[.,;:!?](?!\\w)\", \"\", text)\n",
    "        \n",
    "        # Tokenize with fallback\n",
    "        try:\n",
    "            tokens = word_tokenize(text)\n",
    "        except:\n",
    "            tokens = tokenizer.tokenize(text)\n",
    "        \n",
    "        # Medical stopwords to keep\n",
    "        medical_keep = {'no', 'not', 'nor', 'very', 'more', 'most', 'less', 'least'}\n",
    "        stop_words = set(stopwords.words('english')) - medical_keep\n",
    "        \n",
    "        # Lemmatize with POS tagging for better accuracy\n",
    "        def lemmatize_with_pos(word):\n",
    "            pos = wordnet.ADJ if word.endswith(('ing', 'ed')) else wordnet.NOUN\n",
    "            return lemmatizer.lemmatize(word, pos=pos)\n",
    "        \n",
    "        tokens = [lemmatize_with_pos(word) for word in tokens \n",
    "                 if word not in stop_words and len(word) > 2]\n",
    "        \n",
    "        return ' '.join(tokens)\n",
    "        \n",
    "    except Exception as e:\n",
    "        print(f\"Error processing: {text[:50]}... Error: {str(e)[:100]}...\")\n",
    "        return \"\"\n",
    "\n",
    "# Apply enhanced preprocessing\n",
    "df['med_processed'] = df['text'].apply(medical_preprocess)\n",
    "\n",
    "# Show comparison\n",
    "print(\"\\nEnhanced Medical Preprocessing Results:\")\n",
    "for i in range(3):\n",
    "    print(f\"\\nOriginal {i+1}: {df['text'].iloc[i]}\")\n",
    "    print(f\"Standard: {df['processed_text'].iloc[i]}\")\n",
    "    print(f\"Medical: {df['med_processed'].iloc[i]}\")"
   ]
  },
  {
   "cell_type": "markdown",
   "id": "31bf78fd",
   "metadata": {},
   "source": []
  }
 ],
 "metadata": {
  "kernelspec": {
   "display_name": "venv",
   "language": "python",
   "name": "python3"
  },
  "language_info": {
   "codemirror_mode": {
    "name": "ipython",
    "version": 3
   },
   "file_extension": ".py",
   "mimetype": "text/x-python",
   "name": "python",
   "nbconvert_exporter": "python",
   "pygments_lexer": "ipython3",
   "version": "3.12.3"
  }
 },
 "nbformat": 4,
 "nbformat_minor": 5
}
