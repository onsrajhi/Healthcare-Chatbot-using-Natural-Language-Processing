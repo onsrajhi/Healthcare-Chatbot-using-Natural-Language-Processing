{
 "cells": [
  {
   "cell_type": "code",
   "execution_count": 19,
   "id": "684d5c3c",
   "metadata": {},
   "outputs": [],
   "source": [
    "import pandas as pd\n",
    "import numpy as np\n",
    "import matplotlib.pyplot as plt\n",
    "import seaborn as sns\n",
    "import os\n",
    "\n",
    "# Load the dataset\n",
    "df = pd.read_csv('/home/silver/Healthcare-Chatbot-using-Natural-Language-Processing/Dataset/Symptom2Disease.csv')"
   ]
  },
  {
   "cell_type": "code",
   "execution_count": 20,
   "id": "2dc98ca1",
   "metadata": {},
   "outputs": [
    {
     "name": "stdout",
     "output_type": "stream",
     "text": [
      "   Unnamed: 0      label                                               text\n",
      "0           0  Psoriasis  I have been experiencing a skin rash on my arm...\n",
      "1           1  Psoriasis  My skin has been peeling, especially on my kne...\n",
      "2           2  Psoriasis  I have been experiencing joint pain in my fing...\n",
      "3           3  Psoriasis  There is a silver like dusting on my skin, esp...\n",
      "4           4  Psoriasis  My nails have small dents or pits in them, and...\n"
     ]
    }
   ],
   "source": [
    "print(df.head())\n"
   ]
  },
  {
   "cell_type": "code",
   "execution_count": 21,
   "id": "9c1690e2",
   "metadata": {},
   "outputs": [
    {
     "data": {
      "text/plain": [
       "(1200, 3)"
      ]
     },
     "execution_count": 21,
     "metadata": {},
     "output_type": "execute_result"
    }
   ],
   "source": [
    "df.shape"
   ]
  },
  {
   "cell_type": "code",
   "execution_count": 22,
   "id": "8ed19443",
   "metadata": {},
   "outputs": [
    {
     "name": "stdout",
     "output_type": "stream",
     "text": [
      "<class 'pandas.core.frame.DataFrame'>\n",
      "RangeIndex: 1200 entries, 0 to 1199\n",
      "Data columns (total 3 columns):\n",
      " #   Column      Non-Null Count  Dtype \n",
      "---  ------      --------------  ----- \n",
      " 0   Unnamed: 0  1200 non-null   int64 \n",
      " 1   label       1200 non-null   object\n",
      " 2   text        1200 non-null   object\n",
      "dtypes: int64(1), object(2)\n",
      "memory usage: 28.3+ KB\n"
     ]
    }
   ],
   "source": [
    "df.info()"
   ]
  },
  {
   "cell_type": "code",
   "execution_count": 23,
   "id": "56429874",
   "metadata": {},
   "outputs": [
    {
     "data": {
      "text/plain": [
       "Unnamed: 0    0\n",
       "label         0\n",
       "text          0\n",
       "dtype: int64"
      ]
     },
     "execution_count": 23,
     "metadata": {},
     "output_type": "execute_result"
    }
   ],
   "source": [
    "df.isnull().sum()"
   ]
  },
  {
   "cell_type": "code",
   "execution_count": 24,
   "id": "6dd58a54",
   "metadata": {},
   "outputs": [
    {
     "name": "stdout",
     "output_type": "stream",
     "text": [
      "label\n",
      "Psoriasis                          50\n",
      "Varicose Veins                     50\n",
      "Typhoid                            50\n",
      "Chicken pox                        50\n",
      "Impetigo                           50\n",
      "Dengue                             50\n",
      "Fungal infection                   50\n",
      "Common Cold                        50\n",
      "Pneumonia                          50\n",
      "Dimorphic Hemorrhoids              50\n",
      "Arthritis                          50\n",
      "Acne                               50\n",
      "Bronchial Asthma                   50\n",
      "Hypertension                       50\n",
      "Migraine                           50\n",
      "Cervical spondylosis               50\n",
      "Jaundice                           50\n",
      "Malaria                            50\n",
      "urinary tract infection            50\n",
      "allergy                            50\n",
      "gastroesophageal reflux disease    50\n",
      "drug reaction                      50\n",
      "peptic ulcer disease               50\n",
      "diabetes                           50\n",
      "Name: count, dtype: int64\n"
     ]
    }
   ],
   "source": [
    "print(df['label'].value_counts())"
   ]
  },
  {
   "cell_type": "code",
   "execution_count": 25,
   "id": "8f54b56a",
   "metadata": {},
   "outputs": [],
   "source": [
    "df.drop('Unnamed: 0', axis=1, inplace=True)"
   ]
  },
  {
   "cell_type": "code",
   "execution_count": 33,
   "id": "aaf90085",
   "metadata": {},
   "outputs": [
    {
     "name": "stdout",
     "output_type": "stream",
     "text": [
      "Number of duplicates: 0\n",
      "Empty text entries: 0\n"
     ]
    }
   ],
   "source": [
    "# 3. Check for duplicate entries\n",
    "print(f\"Number of duplicates: {df.duplicated().sum()}\")\n",
    "\n",
    "# 4. Check for empty strings\n",
    "empty_text = df['text'].str.len() == 0\n",
    "print(f\"Empty text entries: {empty_text.sum()}\")\n",
    "df = df[~empty_text]"
   ]
  },
  {
   "cell_type": "code",
   "execution_count": 34,
   "id": "f5578794",
   "metadata": {},
   "outputs": [],
   "source": [
    "# Save cleaned dataset\n",
    "df.to_csv('Symptom2Disease_cleaned.csv', index=False)"
   ]
  },
  {
   "cell_type": "code",
   "execution_count": 35,
   "id": "ddd543e0",
   "metadata": {},
   "outputs": [
    {
     "data": {
      "text/html": [
       "<div>\n",
       "<style scoped>\n",
       "    .dataframe tbody tr th:only-of-type {\n",
       "        vertical-align: middle;\n",
       "    }\n",
       "\n",
       "    .dataframe tbody tr th {\n",
       "        vertical-align: top;\n",
       "    }\n",
       "\n",
       "    .dataframe thead th {\n",
       "        text-align: right;\n",
       "    }\n",
       "</style>\n",
       "<table border=\"1\" class=\"dataframe\">\n",
       "  <thead>\n",
       "    <tr style=\"text-align: right;\">\n",
       "      <th></th>\n",
       "      <th>label</th>\n",
       "      <th>text</th>\n",
       "    </tr>\n",
       "  </thead>\n",
       "  <tbody>\n",
       "    <tr>\n",
       "      <th>0</th>\n",
       "      <td>Psoriasis</td>\n",
       "      <td>i have been experiencing a skin rash on my arm...</td>\n",
       "    </tr>\n",
       "    <tr>\n",
       "      <th>1</th>\n",
       "      <td>Psoriasis</td>\n",
       "      <td>my skin has been peeling, especially on my kne...</td>\n",
       "    </tr>\n",
       "    <tr>\n",
       "      <th>2</th>\n",
       "      <td>Psoriasis</td>\n",
       "      <td>i have been experiencing joint pain in my fing...</td>\n",
       "    </tr>\n",
       "    <tr>\n",
       "      <th>3</th>\n",
       "      <td>Psoriasis</td>\n",
       "      <td>there is a silver like dusting on my skin, esp...</td>\n",
       "    </tr>\n",
       "    <tr>\n",
       "      <th>4</th>\n",
       "      <td>Psoriasis</td>\n",
       "      <td>my nails have small dents or pits in them, and...</td>\n",
       "    </tr>\n",
       "    <tr>\n",
       "      <th>...</th>\n",
       "      <td>...</td>\n",
       "      <td>...</td>\n",
       "    </tr>\n",
       "    <tr>\n",
       "      <th>1195</th>\n",
       "      <td>diabetes</td>\n",
       "      <td>i'm shaking and trembling all over. i've lost ...</td>\n",
       "    </tr>\n",
       "    <tr>\n",
       "      <th>1196</th>\n",
       "      <td>diabetes</td>\n",
       "      <td>particularly in the crevices of my skin, i hav...</td>\n",
       "    </tr>\n",
       "    <tr>\n",
       "      <th>1197</th>\n",
       "      <td>diabetes</td>\n",
       "      <td>i regularly experience these intense urges and...</td>\n",
       "    </tr>\n",
       "    <tr>\n",
       "      <th>1198</th>\n",
       "      <td>diabetes</td>\n",
       "      <td>i have trouble breathing, especially outside. ...</td>\n",
       "    </tr>\n",
       "    <tr>\n",
       "      <th>1199</th>\n",
       "      <td>diabetes</td>\n",
       "      <td>i constantly sneeze and have a dry cough. my i...</td>\n",
       "    </tr>\n",
       "  </tbody>\n",
       "</table>\n",
       "<p>1153 rows × 2 columns</p>\n",
       "</div>"
      ],
      "text/plain": [
       "          label                                               text\n",
       "0     Psoriasis  i have been experiencing a skin rash on my arm...\n",
       "1     Psoriasis  my skin has been peeling, especially on my kne...\n",
       "2     Psoriasis  i have been experiencing joint pain in my fing...\n",
       "3     Psoriasis  there is a silver like dusting on my skin, esp...\n",
       "4     Psoriasis  my nails have small dents or pits in them, and...\n",
       "...         ...                                                ...\n",
       "1195   diabetes  i'm shaking and trembling all over. i've lost ...\n",
       "1196   diabetes  particularly in the crevices of my skin, i hav...\n",
       "1197   diabetes  i regularly experience these intense urges and...\n",
       "1198   diabetes  i have trouble breathing, especially outside. ...\n",
       "1199   diabetes  i constantly sneeze and have a dry cough. my i...\n",
       "\n",
       "[1153 rows x 2 columns]"
      ]
     },
     "execution_count": 35,
     "metadata": {},
     "output_type": "execute_result"
    }
   ],
   "source": [
    "df"
   ]
  },
  {
   "cell_type": "code",
   "execution_count": 36,
   "id": "0ff8e5fb",
   "metadata": {},
   "outputs": [
    {
     "data": {
      "text/plain": [
       "0       Psoriasis\n",
       "1       Psoriasis\n",
       "2       Psoriasis\n",
       "3       Psoriasis\n",
       "4       Psoriasis\n",
       "          ...    \n",
       "1195     diabetes\n",
       "1196     diabetes\n",
       "1197     diabetes\n",
       "1198     diabetes\n",
       "1199     diabetes\n",
       "Name: label, Length: 1153, dtype: object"
      ]
     },
     "execution_count": 36,
     "metadata": {},
     "output_type": "execute_result"
    }
   ],
   "source": [
    "df['label']"
   ]
  },
  {
   "cell_type": "code",
   "execution_count": null,
   "id": "8a507c87",
   "metadata": {},
   "outputs": [],
   "source": []
  }
 ],
 "metadata": {
  "kernelspec": {
   "display_name": "venv",
   "language": "python",
   "name": "python3"
  },
  "language_info": {
   "codemirror_mode": {
    "name": "ipython",
    "version": 3
   },
   "file_extension": ".py",
   "mimetype": "text/x-python",
   "name": "python",
   "nbconvert_exporter": "python",
   "pygments_lexer": "ipython3",
   "version": "3.12.3"
  }
 },
 "nbformat": 4,
 "nbformat_minor": 5
}
