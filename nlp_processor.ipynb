{
 "cells": [
  {
   "cell_type": "markdown",
   "id": "3c345e6e",
   "metadata": {},
   "source": [
    "Setup and Data Loading"
   ]
  },
  {
   "cell_type": "code",
   "execution_count": 8,
   "id": "0d1a058f",
   "metadata": {},
   "outputs": [
    {
     "name": "stderr",
     "output_type": "stream",
     "text": [
      "[nltk_data] Downloading package punkt to /home/silver/nltk_data...\n",
      "[nltk_data]   Package punkt is already up-to-date!\n",
      "[nltk_data] Downloading package stopwords to /home/silver/nltk_data...\n",
      "[nltk_data]   Package stopwords is already up-to-date!\n"
     ]
    }
   ],
   "source": [
    "import pandas as pd\n",
    "import numpy as np\n",
    "import matplotlib.pyplot as plt\n",
    "import seaborn as sns\n",
    "from sklearn.feature_extraction.text import TfidfVectorizer\n",
    "from sklearn.model_selection import train_test_split\n",
    "from nltk.corpus import stopwords\n",
    "from nltk.tokenize import word_tokenize\n",
    "import string\n",
    "import nltk\n",
    "from nltk.tokenize import word_tokenize\n",
    "from nltk.corpus import stopwords\n",
    "from nltk.stem import PorterStemmer\n",
    "\n",
    "\n",
    "# Download NLTK resources\n",
    "nltk.download('punkt')\n",
    "nltk.download('stopwords')\n",
    "\n",
    "# Load the dataset\n",
    "df = pd.read_csv('/home/silver/Healthcare-Chatbot-using-Natural-Language-Processing/clean datasets/Symptom2Disease_cleaned.csv')"
   ]
  },
  {
   "cell_type": "code",
   "execution_count": 11,
   "id": "002fbe4e",
   "metadata": {},
   "outputs": [
    {
     "name": "stderr",
     "output_type": "stream",
     "text": [
      "[nltk_data] Downloading package punkt to /home/silver/nltk_data...\n",
      "[nltk_data]   Package punkt is already up-to-date!\n",
      "[nltk_data] Downloading package stopwords to /home/silver/nltk_data...\n",
      "[nltk_data]   Package stopwords is already up-to-date!\n",
      "[nltk_data] Downloading package wordnet to /home/silver/nltk_data...\n",
      "[nltk_data]   Package wordnet is already up-to-date!\n",
      "[nltk_data] Downloading package omw-1.4 to /home/silver/nltk_data...\n"
     ]
    },
    {
     "name": "stdout",
     "output_type": "stream",
     "text": [
      "NLTK data paths: ['/home/silver/nltk_data', '/home/silver/Healthcare-Chatbot-using-Natural-Language-Processing/venv/nltk_data', '/home/silver/Healthcare-Chatbot-using-Natural-Language-Processing/venv/share/nltk_data', '/home/silver/Healthcare-Chatbot-using-Natural-Language-Processing/venv/lib/nltk_data', '/usr/share/nltk_data', '/usr/local/share/nltk_data', '/usr/lib/nltk_data', '/usr/local/lib/nltk_data']\n"
     ]
    }
   ],
   "source": [
    "import nltk\n",
    "\n",
    "# Download all required NLTK data\n",
    "nltk.download('punkt')  # For tokenization\n",
    "nltk.download('stopwords')  # For stopword removal\n",
    "nltk.download('wordnet')  # For lemmatization (alternative to stemming)\n",
    "nltk.download('omw-1.4')  # Open Multilingual WordNet (required for wordnet)\n",
    "\n",
    "# Verify NLTK data path\n",
    "print(\"NLTK data paths:\", nltk.data.path)"
   ]
  },
  {
   "cell_type": "markdown",
   "id": "bebadda4",
   "metadata": {},
   "source": [
    "Text Preprocessing"
   ]
  },
  {
   "cell_type": "code",
   "execution_count": 12,
   "id": "b8ef7eab",
   "metadata": {},
   "outputs": [
    {
     "name": "stdout",
     "output_type": "stream",
     "text": [
      "\n",
      "Sample preprocessing results:\n",
      "\n",
      "Original 1: i have been experiencing a skin rash on my arms, legs, and torso for the past few weeks. it is red, itchy, and covered in dry, scaly patches.\n",
      "Processed 1: experiencing skin rash arm leg torso past week red itchy covered dry scaly patch\n",
      "\n",
      "Original 2: my skin has been peeling, especially on my knees, elbows, and scalp. this peeling is often accompanied by a burning or stinging sensation.\n",
      "Processed 2: skin peeling especially knee elbow scalp peeling often accompanied burning stinging sensation\n",
      "\n",
      "Original 3: i have been experiencing joint pain in my fingers, wrists, and knees. the pain is often achy and throbbing, and it gets worse when i move my joints.\n",
      "Processed 3: experiencing joint pain finger wrist knee pain often achy throbbing get worse move joint\n"
     ]
    }
   ],
   "source": [
    "import pandas as pd\n",
    "import string\n",
    "from nltk.tokenize import RegexpTokenizer  # Fallback tokenizer\n",
    "from nltk.corpus import stopwords\n",
    "from nltk.stem import WordNetLemmatizer\n",
    "\n",
    "# Initialize components\n",
    "lemmatizer = WordNetLemmatizer()\n",
    "stop_words = set(stopwords.words('english'))\n",
    "tokenizer = RegexpTokenizer(r'\\w+')  # Fallback tokenizer\n",
    "\n",
    "def robust_preprocess(text):\n",
    "    try:\n",
    "        if not isinstance(text, str) or not text.strip():\n",
    "            return \"\"\n",
    "            \n",
    "        # Convert to lowercase\n",
    "        text = text.lower()\n",
    "        \n",
    "        # Remove punctuation\n",
    "        text = text.translate(str.maketrans('', '', string.punctuation))\n",
    "        \n",
    "        # Try NLTK word_tokenize first, fallback to regex tokenizer if it fails\n",
    "        try:\n",
    "            tokens = word_tokenize(text)\n",
    "        except:\n",
    "            tokens = tokenizer.tokenize(text)\n",
    "        \n",
    "        # Remove stopwords and lemmatize\n",
    "        tokens = [lemmatizer.lemmatize(word) for word in tokens if word not in stop_words]\n",
    "        \n",
    "        return ' '.join(tokens)\n",
    "        \n",
    "    except Exception as e:\n",
    "        print(f\"Error processing text: {text[:50]}... Error: {str(e)[:100]}...\")\n",
    "        return \"\"\n",
    "\n",
    "# Apply preprocessing\n",
    "df['processed_text'] = df['text'].apply(robust_preprocess)\n",
    "\n",
    "# Verify results\n",
    "print(\"\\nSample preprocessing results:\")\n",
    "for i in range(3):\n",
    "    print(f\"\\nOriginal {i+1}: {df['text'].iloc[i]}\")\n",
    "    print(f\"Processed {i+1}: {df['processed_text'].iloc[i]}\")"
   ]
  },
  {
   "cell_type": "code",
   "execution_count": 13,
   "id": "1521a77b",
   "metadata": {},
   "outputs": [
    {
     "name": "stdout",
     "output_type": "stream",
     "text": [
      "\n",
      "Enhanced Medical Preprocessing Results:\n",
      "\n",
      "Original 1: i have been experiencing a skin rash on my arms, legs, and torso for the past few weeks. it is red, itchy, and covered in dry, scaly patches.\n",
      "Standard: experiencing skin rash arm leg torso past week red itchy covered dry scaly patch\n",
      "Medical: experiencing skin rash arm leg torso past week red itchy covered dry scaly patch\n",
      "\n",
      "Original 2: my skin has been peeling, especially on my knees, elbows, and scalp. this peeling is often accompanied by a burning or stinging sensation.\n",
      "Standard: skin peeling especially knee elbow scalp peeling often accompanied burning stinging sensation\n",
      "Medical: skin peeling especially knee elbow scalp peeling often accompanied burning stinging sensation\n",
      "\n",
      "Original 3: i have been experiencing joint pain in my fingers, wrists, and knees. the pain is often achy and throbbing, and it gets worse when i move my joints.\n",
      "Standard: experiencing joint pain finger wrist knee pain often achy throbbing get worse move joint\n",
      "Medical: experiencing joint pain finger wrist knee pain often achy throbbing get worse move joint\n"
     ]
    }
   ],
   "source": [
    "import re\n",
    "from nltk.corpus import wordnet\n",
    "\n",
    "# Enhanced medical preprocessing\n",
    "def medical_preprocess(text):\n",
    "    try:\n",
    "        if not isinstance(text, str) or not text.strip():\n",
    "            return \"\"\n",
    "            \n",
    "        # Convert to lowercase\n",
    "        text = text.lower()\n",
    "        \n",
    "        # Handle medical abbreviations/contractions\n",
    "        text = re.sub(r\"\\b(i've|i'm|i'd)\\b\", \"\", text)\n",
    "        \n",
    "        # Special handling for numeric symptoms\n",
    "        text = re.sub(r\"(\\d+)\\s*(hours|days|weeks|months|years)\", r\"\\1_\\2\", text)\n",
    "        \n",
    "        # Remove punctuation but keep hyphens in compound terms\n",
    "        text = re.sub(r\"(?<!\\w)[.,;:!?](?!\\w)\", \"\", text)\n",
    "        \n",
    "        # Tokenize with fallback\n",
    "        try:\n",
    "            tokens = word_tokenize(text)\n",
    "        except:\n",
    "            tokens = tokenizer.tokenize(text)\n",
    "        \n",
    "        # Medical stopwords to keep\n",
    "        medical_keep = {'no', 'not', 'nor', 'very', 'more', 'most', 'less', 'least'}\n",
    "        stop_words = set(stopwords.words('english')) - medical_keep\n",
    "        \n",
    "        # Lemmatize with POS tagging for better accuracy\n",
    "        def lemmatize_with_pos(word):\n",
    "            pos = wordnet.ADJ if word.endswith(('ing', 'ed')) else wordnet.NOUN\n",
    "            return lemmatizer.lemmatize(word, pos=pos)\n",
    "        \n",
    "        tokens = [lemmatize_with_pos(word) for word in tokens \n",
    "                 if word not in stop_words and len(word) > 2]\n",
    "        \n",
    "        return ' '.join(tokens)\n",
    "        \n",
    "    except Exception as e:\n",
    "        print(f\"Error processing: {text[:50]}... Error: {str(e)[:100]}...\")\n",
    "        return \"\"\n",
    "\n",
    "# Apply enhanced preprocessing\n",
    "df['med_processed'] = df['text'].apply(medical_preprocess)\n",
    "\n",
    "# Show comparison\n",
    "print(\"\\nEnhanced Medical Preprocessing Results:\")\n",
    "for i in range(3):\n",
    "    print(f\"\\nOriginal {i+1}: {df['text'].iloc[i]}\")\n",
    "    print(f\"Standard: {df['processed_text'].iloc[i]}\")\n",
    "    print(f\"Medical: {df['med_processed'].iloc[i]}\")"
   ]
  },
  {
   "cell_type": "markdown",
   "id": "2e7064bf",
   "metadata": {},
   "source": [
    "Feature Extraction with N-gram TF-IDF"
   ]
  },
  {
   "cell_type": "code",
   "execution_count": 16,
   "id": "ecf61ced",
   "metadata": {},
   "outputs": [
    {
     "name": "stdout",
     "output_type": "stream",
     "text": [
      "\n",
      "TF-IDF features shape: (1153, 5000)\n",
      "\n",
      "Sample feature names: ['abdomen' 'abdomen ache' 'abdomen bothering' 'abdomen discomfort'\n",
      " 'abdomen felt' 'abdomen frequently' 'abdomen get' 'abdomen hour'\n",
      " 'abdomen hurt' 'abdomen itchy' 'abdomen last' 'abdomen ofetn'\n",
      " 'abdomen often' 'abdomen really' 'abdomen throughout' 'abdominal'\n",
      " 'abdominal ache' 'abdominal cramp' 'abdominal pain' 'abdominal part']\n"
     ]
    }
   ],
   "source": [
    "# Initialize TF-IDF Vectorizer with unigrams and bigrams\n",
    "tfidf_vectorizer = TfidfVectorizer(\n",
    "    ngram_range=(1, 2),  # Using both unigrams and bigrams\n",
    "    max_features=5000,    # Limiting to top 5000 features\n",
    "    dtype=np.float32      # Explicit data type for better memory management\n",
    ")\n",
    "\n",
    "# Fit and transform the processed text\n",
    "tfidf_features = tfidf_vectorizer.fit_transform(df['processed_text'])\n",
    "\n",
    "# Convert to dense array only if needed (sparse is more memory efficient)\n",
    "try:\n",
    "    # Safe conversion with type checking\n",
    "    if hasattr(tfidf_features, 'toarray'):\n",
    "        tfidf_array = tfidf_features.toarray()\n",
    "    else:\n",
    "        tfidf_array = tfidf_features  # Keep as sparse matrix if toarray() not available\n",
    "    \n",
    "    # Create DataFrame\n",
    "    tfidf_df = pd.DataFrame(\n",
    "        data=tfidf_array,\n",
    "        columns=tfidf_vectorizer.get_feature_names_out(),\n",
    "        dtype=np.float32\n",
    "    )\n",
    "    \n",
    "    print(\"\\nTF-IDF features shape:\", tfidf_features.shape)\n",
    "    print(\"\\nSample feature names:\", tfidf_vectorizer.get_feature_names_out()[:20])\n",
    "    \n",
    "except Exception as e:\n",
    "    print(f\"Error during TF-IDF conversion: {str(e)}\")\n",
    "    # Fallback to sparse representation\n",
    "    print(\"\\nTF-IDF features shape (sparse):\", tfidf_features.shape)\n",
    "    print(\"Sample feature names:\", tfidf_vectorizer.get_feature_names_out()[:20])"
   ]
  },
  {
   "cell_type": "code",
   "execution_count": 17,
   "id": "53afd577",
   "metadata": {},
   "outputs": [
    {
     "name": "stdout",
     "output_type": "stream",
     "text": [
      "\n",
      "Disease: Psoriasis\n",
      "Top features: ['joint extreme', 'skin starting', 'infection joint', 'flaky area', 'skin prone']\n",
      "\n",
      "Disease: Varicose Veins\n",
      "Top features: ['also overweight', 'reason', 'reason behind', 'protruding', 'overweight']\n",
      "\n",
      "Disease: Typhoid\n",
      "Top features: ['ive diarrhoea', 'time day', 'loose watery', 'watery stool', 'lot dont']\n",
      "\n",
      "Disease: Chicken pox\n",
      "Top features: ['headache always', 'body itch', 'red swollen', 'always feel', 'itch touch']\n",
      "\n",
      "Disease: Impetigo\n",
      "Top features: ['helping much', 'helping', 'healing tried', 'difficult handle', 'face healing']\n"
     ]
    },
    {
     "data": {
      "image/png": "[encoded data removed]",
      "text/plain": [
       "<Figure size 1000x600 with 1 Axes>"
      ]
     },
     "metadata": {},
     "output_type": "display_data"
    }
   ],
   "source": [
    "# Get top N important features per disease\n",
    "def get_top_n_features(tfidf_matrix, feature_names, labels, top_n=5):\n",
    "    top_features = {}\n",
    "    for i, label in enumerate(labels):\n",
    "        row = np.squeeze(tfidf_matrix[i].toarray())\n",
    "        top_indices = row.argsort()[-top_n:][::-1]\n",
    "        top_features[label] = [feature_names[j] for j in top_indices]\n",
    "    return top_features\n",
    "\n",
    "top_features = get_top_n_features(tfidf_features, \n",
    "                                 tfidf_vectorizer.get_feature_names_out(), \n",
    "                                 df['label'])\n",
    "\n",
    "# Print top features for first 5 diseases\n",
    "for disease, features in list(top_features.items())[:5]:\n",
    "    print(f\"\\nDisease: {disease}\")\n",
    "    print(\"Top features:\", features)\n",
    "\n",
    "# Visualize feature importance for a sample disease\n",
    "sample_disease = df['label'].iloc[0]\n",
    "sample_idx = df[df['label'] == sample_disease].index[0]\n",
    "sample_features = tfidf_features[sample_idx]\n",
    "\n",
    "# Get top 10 features for this sample\n",
    "top_indices = sample_features.toarray().argsort()[0][-10:][::-1]\n",
    "feature_names = np.array(tfidf_vectorizer.get_feature_names_out())\n",
    "top_feature_names = feature_names[top_indices]\n",
    "top_feature_values = sample_features[0, top_indices].toarray()[0]\n",
    "\n",
    "plt.figure(figsize=(10, 6))\n",
    "plt.barh(top_feature_names, top_feature_values)\n",
    "plt.title(f\"Top TF-IDF Features for {sample_disease}\")\n",
    "plt.xlabel(\"TF-IDF Score\")\n",
    "plt.gca().invert_yaxis()\n",
    "plt.show()"
   ]
  },
  {
   "cell_type": "markdown",
   "id": "31bf78fd",
   "metadata": {},
   "source": []
  }
 ],
 "metadata": {
  "kernelspec": {
   "display_name": "venv",
   "language": "python",
   "name": "python3"
  },
  "language_info": {
   "codemirror_mode": {
    "name": "ipython",
    "version": 3
   },
   "file_extension": ".py",
   "mimetype": "text/x-python",
   "name": "python",
   "nbconvert_exporter": "python",
   "pygments_lexer": "ipython3",
   "version": "3.12.3"
  }
 },
 "nbformat": 4,
 "nbformat_minor": 5
}
