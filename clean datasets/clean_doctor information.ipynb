{
 "cells": [
  {
   "cell_type": "code",
   "execution_count": 1,
   "id": "98321b46",
   "metadata": {},
   "outputs": [],
   "source": [
    "import pandas as pd\n",
    "import numpy as np\n",
    "import matplotlib.pyplot as plt\n",
    "import seaborn as sns\n",
    "import os\n",
    "\n",
    "# Load the dataset\n",
    "df = pd.read_csv('/home/silver/Healthcare-Chatbot-using-Natural-Language-Processing/Dataset/doctor information.csv')"
   ]
  },
  {
   "cell_type": "code",
   "execution_count": 2,
   "id": "e6c2e5db",
   "metadata": {},
   "outputs": [
    {
     "name": "stdout",
     "output_type": "stream",
     "text": [
      "   Unnamed: 0                        Doctor's Name     speciality\n",
      "0           0              Diem Truong, LAc, MSTOM  Acupuncturist\n",
      "1           1                  Monique Rivera, LAc  Acupuncturist\n",
      "2           2  Ronald Pratt, LAc, DiplAc, MA, MSAc  Acupuncturist\n",
      "3           3                  Daniel Camburn, LAc  Acupuncturist\n",
      "4           4   Deborah Barbiere, LAc, MSTOM, PsyD  Acupuncturist\n"
     ]
    }
   ],
   "source": [
    "print(df.head())"
   ]
  },
  {
   "cell_type": "code",
   "execution_count": 3,
   "id": "c879df9d",
   "metadata": {},
   "outputs": [
    {
     "data": {
      "text/plain": [
       "(9298, 3)"
      ]
     },
     "execution_count": 3,
     "metadata": {},
     "output_type": "execute_result"
    }
   ],
   "source": [
    "df.shape"
   ]
  },
  {
   "cell_type": "code",
   "execution_count": 4,
   "id": "eedcde55",
   "metadata": {},
   "outputs": [
    {
     "name": "stdout",
     "output_type": "stream",
     "text": [
      "<class 'pandas.core.frame.DataFrame'>\n",
      "RangeIndex: 9298 entries, 0 to 9297\n",
      "Data columns (total 3 columns):\n",
      " #   Column         Non-Null Count  Dtype \n",
      "---  ------         --------------  ----- \n",
      " 0   Unnamed: 0     9298 non-null   int64 \n",
      " 1   Doctor's Name  9298 non-null   object\n",
      " 2   speciality     9298 non-null   object\n",
      "dtypes: int64(1), object(2)\n",
      "memory usage: 218.1+ KB\n"
     ]
    }
   ],
   "source": [
    "df.info()"
   ]
  },
  {
   "cell_type": "code",
   "execution_count": 6,
   "id": "ec81067f",
   "metadata": {},
   "outputs": [
    {
     "data": {
      "text/plain": [
       "Unnamed: 0       0\n",
       "Doctor's Name    0\n",
       "speciality       0\n",
       "dtype: int64"
      ]
     },
     "execution_count": 6,
     "metadata": {},
     "output_type": "execute_result"
    }
   ],
   "source": [
    "df.isnull().sum()"
   ]
  },
  {
   "cell_type": "code",
   "execution_count": 7,
   "id": "f96a1ea1",
   "metadata": {},
   "outputs": [],
   "source": [
    "df.drop('Unnamed: 0', axis=1, inplace=True)"
   ]
  },
  {
   "cell_type": "code",
   "execution_count": 8,
   "id": "02b85fcc",
   "metadata": {},
   "outputs": [
    {
     "name": "stdout",
     "output_type": "stream",
     "text": [
      "Number of duplicates: 5516\n"
     ]
    }
   ],
   "source": [
    "print(f\"Number of duplicates: {df.duplicated().sum()}\")"
   ]
  },
  {
   "cell_type": "code",
   "execution_count": 9,
   "id": "25d1c3ef",
   "metadata": {},
   "outputs": [
    {
     "data": {
      "text/html": [
       "<div>\n",
       "<style scoped>\n",
       "    .dataframe tbody tr th:only-of-type {\n",
       "        vertical-align: middle;\n",
       "    }\n",
       "\n",
       "    .dataframe tbody tr th {\n",
       "        vertical-align: top;\n",
       "    }\n",
       "\n",
       "    .dataframe thead th {\n",
       "        text-align: right;\n",
       "    }\n",
       "</style>\n",
       "<table border=\"1\" class=\"dataframe\">\n",
       "  <thead>\n",
       "    <tr style=\"text-align: right;\">\n",
       "      <th></th>\n",
       "      <th>Doctor's Name</th>\n",
       "      <th>speciality</th>\n",
       "    </tr>\n",
       "  </thead>\n",
       "  <tbody>\n",
       "    <tr>\n",
       "      <th>0</th>\n",
       "      <td>Diem Truong, LAc, MSTOM</td>\n",
       "      <td>Acupuncturist</td>\n",
       "    </tr>\n",
       "    <tr>\n",
       "      <th>1</th>\n",
       "      <td>Monique Rivera, LAc</td>\n",
       "      <td>Acupuncturist</td>\n",
       "    </tr>\n",
       "    <tr>\n",
       "      <th>2</th>\n",
       "      <td>Ronald Pratt, LAc, DiplAc, MA, MSAc</td>\n",
       "      <td>Acupuncturist</td>\n",
       "    </tr>\n",
       "    <tr>\n",
       "      <th>3</th>\n",
       "      <td>Daniel Camburn, LAc</td>\n",
       "      <td>Acupuncturist</td>\n",
       "    </tr>\n",
       "    <tr>\n",
       "      <th>4</th>\n",
       "      <td>Deborah Barbiere, LAc, MSTOM, PsyD</td>\n",
       "      <td>Acupuncturist</td>\n",
       "    </tr>\n",
       "    <tr>\n",
       "      <th>...</th>\n",
       "      <td>...</td>\n",
       "      <td>...</td>\n",
       "    </tr>\n",
       "    <tr>\n",
       "      <th>9293</th>\n",
       "      <td>Tiffany Randazzo, NP</td>\n",
       "      <td>Nurse Practitioner</td>\n",
       "    </tr>\n",
       "    <tr>\n",
       "      <th>9294</th>\n",
       "      <td>Dr. Elliot Nadelson, MD</td>\n",
       "      <td>Urologist</td>\n",
       "    </tr>\n",
       "    <tr>\n",
       "      <th>9295</th>\n",
       "      <td>Dr. Dimitri Kessaris, MD</td>\n",
       "      <td>Urologist</td>\n",
       "    </tr>\n",
       "    <tr>\n",
       "      <th>9296</th>\n",
       "      <td>Lyudmila Emag, NP</td>\n",
       "      <td>Nurse Practitioner</td>\n",
       "    </tr>\n",
       "    <tr>\n",
       "      <th>9297</th>\n",
       "      <td>Tiffany Randazzo, NP</td>\n",
       "      <td>Nurse Practitioner</td>\n",
       "    </tr>\n",
       "  </tbody>\n",
       "</table>\n",
       "<p>9298 rows × 2 columns</p>\n",
       "</div>"
      ],
      "text/plain": [
       "                            Doctor's Name          speciality\n",
       "0                 Diem Truong, LAc, MSTOM       Acupuncturist\n",
       "1                     Monique Rivera, LAc       Acupuncturist\n",
       "2     Ronald Pratt, LAc, DiplAc, MA, MSAc       Acupuncturist\n",
       "3                     Daniel Camburn, LAc       Acupuncturist\n",
       "4      Deborah Barbiere, LAc, MSTOM, PsyD       Acupuncturist\n",
       "...                                   ...                 ...\n",
       "9293                 Tiffany Randazzo, NP  Nurse Practitioner\n",
       "9294              Dr. Elliot Nadelson, MD           Urologist\n",
       "9295             Dr. Dimitri Kessaris, MD           Urologist\n",
       "9296                    Lyudmila Emag, NP  Nurse Practitioner\n",
       "9297                 Tiffany Randazzo, NP  Nurse Practitioner\n",
       "\n",
       "[9298 rows x 2 columns]"
      ]
     },
     "execution_count": 9,
     "metadata": {},
     "output_type": "execute_result"
    }
   ],
   "source": [
    "df"
   ]
  },
  {
   "cell_type": "code",
   "execution_count": 10,
   "id": "36cc6114",
   "metadata": {},
   "outputs": [],
   "source": [
    "# Save cleaned dataset\n",
    "df.to_csv('doctors information_cleaned.csv', index=False)"
   ]
  }
 ],
 "metadata": {
  "kernelspec": {
   "display_name": "venv",
   "language": "python",
   "name": "python3"
  },
  "language_info": {
   "codemirror_mode": {
    "name": "ipython",
    "version": 3
   },
   "file_extension": ".py",
   "mimetype": "text/x-python",
   "name": "python",
   "nbconvert_exporter": "python",
   "pygments_lexer": "ipython3",
   "version": "3.12.3"
  }
 },
 "nbformat": 4,
 "nbformat_minor": 5
}
